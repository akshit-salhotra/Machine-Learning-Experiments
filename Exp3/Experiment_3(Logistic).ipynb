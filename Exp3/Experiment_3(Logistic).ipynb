{
  "cells": [
    {
      "cell_type": "code",
      "execution_count": null,
      "metadata": {
        "id": "5atYDidFMbU-"
      },
      "outputs": [],
      "source": [
        "!pip install emoji bs4 wordcloud textblob nltk"
      ]
    },
    {
      "cell_type": "code",
      "execution_count": null,
      "metadata": {
        "colab": {
          "base_uri": "https://localhost:8080/"
        },
        "id": "8os0OXvfM549",
        "outputId": "08941344-c532-4beb-81a0-1beefe84abe6"
      },
      "outputs": [],
      "source": [
        "import pandas as pd\n",
        "import numpy as np\n",
        "import matplotlib.pyplot as plt\n",
        "from bs4 import BeautifulSoup\n",
        "from wordcloud import WordCloud\n",
        "import re\n",
        "import string\n",
        "from textblob import TextBlob\n",
        "import nltk\n",
        "from nltk.corpus import stopwords\n",
        "import emoji\n",
        "nltk.download('punkt')\n",
        "nltk.download('wordnet')\n",
        "from sklearn.preprocessing import LabelEncoder,StandardScaler\n",
        "from sklearn.feature_extraction.text import CountVectorizer,TfidfVectorizer\n",
        "from sklearn.metrics import classification_report, accuracy_score,roc_curve,auc,confusion_matrix,ConfusionMatrixDisplay\n",
        "from sklearn.model_selection import train_test_split\n",
        "from sklearn.linear_model import LogisticRegression as LRsklearn\n",
        "from sklearn.manifold import TSNE\n",
        "from nltk.stem import PorterStemmer\n",
        "import re\n",
        "import math\n",
        "from tqdm import tqdm"
      ]
    },
    {
      "cell_type": "code",
      "execution_count": null,
      "metadata": {
        "colab": {
          "base_uri": "https://localhost:8080/",
          "height": 206
        },
        "id": "QVZEpdsTMvo3",
        "outputId": "c77ac723-f057-4145-b019-3485cfd28773"
      },
      "outputs": [],
      "source": [
        "df = pd.read_csv('spam.csv') #write your own file path\n",
        "df.head()\n"
      ]
    },
    {
      "cell_type": "code",
      "execution_count": null,
      "metadata": {
        "colab": {
          "base_uri": "https://localhost:8080/"
        },
        "id": "Jx6JvE0-M1v0",
        "outputId": "c4f139bc-7a79-42cb-cf9e-fada8f056e5d"
      },
      "outputs": [],
      "source": [
        "df.shape"
      ]
    },
    {
      "cell_type": "code",
      "execution_count": null,
      "metadata": {
        "id": "0TbN3RO-NebU"
      },
      "outputs": [],
      "source": [
        "#check null values\n",
        "df.isna().sum()"
      ]
    },
    {
      "cell_type": "code",
      "execution_count": null,
      "metadata": {
        "id": "RaY60BRYNiUr"
      },
      "outputs": [],
      "source": [
        "#find duplicates and drop (inplace=True)\n",
        "df.drop_duplicates(inplace=True)"
      ]
    },
    {
      "cell_type": "code",
      "execution_count": null,
      "metadata": {
        "colab": {
          "base_uri": "https://localhost:8080/"
        },
        "id": "nZNkmbclNpfS",
        "outputId": "42e2db08-ab0f-4bb5-ee80-04e46771bf00"
      },
      "outputs": [],
      "source": [
        "#now it should be false\n",
        "df.duplicated().any()\n"
      ]
    },
    {
      "cell_type": "code",
      "execution_count": null,
      "metadata": {
        "colab": {
          "base_uri": "https://localhost:8080/",
          "height": 675
        },
        "id": "FZtG0wOwNwFl",
        "outputId": "cb712b02-9930-4eff-8304-83f7b30c11bb"
      },
      "outputs": [],
      "source": [
        "# Calculate the count of each label\n",
        "category_counts = df['Category'].value_counts()\n",
        "\n",
        "# Plotting the pie chart\n",
        "plt.figure(figsize=(8, 8))\n",
        "\n",
        "\n",
        "plt.pie(category_counts, labels=category_counts.index, autopct='%1.1f%%', startangle=140)\n",
        "plt.title('Distribution of Spam vs. Ham')\n",
        "plt.axis('equal')  # Equal aspect ratio ensures that pie is drawn as a circle.\n",
        "plt.show()"
      ]
    },
    {
      "cell_type": "markdown",
      "metadata": {
        "id": "q2mK-MvuOSAN"
      },
      "source": [
        "#TEXT VISUALIZATION"
      ]
    },
    {
      "cell_type": "markdown",
      "metadata": {
        "id": "g2Dpy7-TOKTW"
      },
      "source": [
        "- Iterate through unique categories: This loop iterates through each unique category in the 'Category' column of the DataFrame df.¶\n",
        "- Filter the DataFrame for the current category: Inside the loop, the code filters the DataFrame df to create a new DataFrame filtered_df containing only the rows where the 'Category' column matches the current category.\n",
        "- Concatenate all text data for the current category: The code then concatenates all the text data from the 'Message' column of filtered_df into a single string variable named text.\n",
        "- Generate word cloud: Using the concatenated text data (text), the code generates a word cloud using the WordCloud module. The word cloud is configured to have a width of 800 pixels, a height of 400 pixels, and a white background.\n",
        "- Plot the word cloud: Finally, the code plots the generated word cloud using Matplotlib. Each word's size in the word cloud is proportional to its frequency in the concatenated text data. The title of each word cloud plot includes the current category being processed. The plt.axis('off') command is used to hide the axes of the plot.\n",
        "This process repeats for each unique category, generating a separate word cloud for each category based on the text data associated with that category."
      ]
    },
    {
      "cell_type": "code",
      "execution_count": null,
      "metadata": {
        "colab": {
          "base_uri": "https://localhost:8080/",
          "height": 871
        },
        "id": "vmaS-ixGNzZb",
        "outputId": "26cc1769-152c-4fe7-9a8d-c8b385fa11c3"
      },
      "outputs": [],
      "source": [
        "# Iterate through unique categories\n",
        "for category in df['Category'].unique():\n",
        "    # Filter the DataFrame for the current category\n",
        "    filtered_df = df[df['Category'] == category]\n",
        "\n",
        "    # Concatenate all text data for the current category\n",
        "    text = ' '.join(filtered_df['Message'])\n",
        "\n",
        "    # Generate word cloud\n",
        "    wordcloud = WordCloud(width=800, height=400, background_color='white').generate(text)\n",
        "\n",
        "    # Plot the word cloud\n",
        "    plt.figure(figsize=(10, 5))\n",
        "    plt.imshow(wordcloud, interpolation='bilinear')\n",
        "    plt.title(f'Word Cloud for Category: {category}')\n",
        "    plt.axis('off')\n",
        "    plt.show()"
      ]
    },
    {
      "cell_type": "code",
      "execution_count": null,
      "metadata": {
        "colab": {
          "base_uri": "https://localhost:8080/",
          "height": 206
        },
        "id": "rvVbOfcbN_iq",
        "outputId": "419e7309-e4d9-4a96-9f5b-65b9e3568bde"
      },
      "outputs": [],
      "source": [
        "le = LabelEncoder()\n",
        "df['Category']=le.fit_transform(df['Category'])\n",
        "df.head()"
      ]
    },
    {
      "cell_type": "markdown",
      "metadata": {
        "id": "ybzX6To7YQRp"
      },
      "source": [
        "#Text Preprocessing"
      ]
    },
    {
      "cell_type": "markdown",
      "metadata": {
        "id": "VSarb0DrOfm7"
      },
      "source": [
        "1. Lower Casing¶\n",
        "2. Remove Extra White Spaces\n",
        "3. Remove HTML Tags\n",
        "4. Remove URLs\n",
        "5. Remove Punctuations\n",
        "6. Remove Special Characters\n",
        "7. Remove Numeric Values\n",
        "8. Remove Non-alpha Numeric\n",
        "\n",
        "10. Handling StopWords¶\n",
        "11. Handling Emojis\n",
        "12. Stemming\n",
        "\n"
      ]
    },
    {
      "cell_type": "code",
      "execution_count": null,
      "metadata": {
        "colab": {
          "base_uri": "https://localhost:8080/",
          "height": 206
        },
        "id": "KQCHas1GVFKH",
        "outputId": "add38651-fd46-45c2-f454-09328577c63d"
      },
      "outputs": [],
      "source": [
        "# Convert 'Text' column to lowercase\n",
        "\n",
        "df['Message']=df['Message'].str.lower()\n",
        "print(df)"
      ]
    },
    {
      "cell_type": "code",
      "execution_count": null,
      "metadata": {
        "colab": {
          "base_uri": "https://localhost:8080/",
          "height": 206
        },
        "id": "TyO1t4kKVFQ_",
        "outputId": "b7c952f0-ee25-4522-83b0-b6a23aaecb88"
      },
      "outputs": [],
      "source": [
        "# Remove extra white spaces from the 'Text' column\n",
        "\n",
        "\n",
        "df['Message']=df['Message'].str.strip()\n"
      ]
    },
    {
      "cell_type": "code",
      "execution_count": null,
      "metadata": {
        "id": "rBmlcbYFVFT6"
      },
      "outputs": [],
      "source": [
        "# Function to remove HTML tags from text\n",
        "def remove_html_tags(text):\n",
        "    return  BeautifulSoup(text, \"html.parser\").get_text()\n",
        "\n",
        "\n",
        "# Remove HTML tags from 'Text' column\n",
        "df['Message'] = df['Message'].apply(remove_html_tags)\n",
        "\n",
        "print(df.isna().sum())"
      ]
    },
    {
      "cell_type": "code",
      "execution_count": null,
      "metadata": {
        "id": "5gWe7RFMVFWr"
      },
      "outputs": [],
      "source": [
        "\n",
        "\n",
        "# Define a function to remove URLs using regular expressions\n",
        "def remove_urls(text):\n",
        "    return re.sub(r'http\\S+|www\\.\\S+|https\\S+', '', text)\n",
        "\n",
        "# Apply the function to the 'Text' column\n",
        "df['Message'] = df['Message'].apply(remove_urls)\n",
        "\n",
        "print(df.isna().sum())"
      ]
    },
    {
      "cell_type": "code",
      "execution_count": null,
      "metadata": {
        "id": "MGcywLa1VPQq"
      },
      "outputs": [],
      "source": [
        "\n",
        "\n",
        "def remove_special_characters(text):\n",
        "    # Define the pattern to match special characters\n",
        "    return re.sub(r'[^A-Za-z0-9\\s]','',text)\n",
        "\n",
        "# Apply the function to the 'Message' column\n",
        "df['Message'] = df['Message'].apply(remove_special_characters)\n",
        "\n",
        "print(df.isna().sum())"
      ]
    },
    {
      "cell_type": "code",
      "execution_count": null,
      "metadata": {
        "id": "3-3lAX1YVPSz"
      },
      "outputs": [],
      "source": [
        "# Function to remove numeric values from text\n",
        "def remove_numeric(text):\n",
        "    return re.sub('\\d+','',text)\n",
        "\n",
        "# Apply the function to the \"Message\" column\n",
        "df['Message'] = df['Message'].apply(remove_numeric)\n",
        "\n",
        "print(df.isna().sum())"
      ]
    },
    {
      "cell_type": "code",
      "execution_count": null,
      "metadata": {
        "id": "SugrdvuOVPVG"
      },
      "outputs": [],
      "source": [
        "\n",
        "\n",
        "# Define a function to remove non-alphanumeric characters\n",
        "def remove_non_alphanumeric(text):\n",
        "    return re.sub(r'[^A-Za-z0-9\\s]','',text)\n",
        "\n",
        "# Apply the function to the \"Message\" column\n",
        "df['Message'] = df['Message'].apply(remove_non_alphanumeric)\n",
        "\n",
        "print(df.isna().sum())"
      ]
    },
    {
      "cell_type": "code",
      "execution_count": null,
      "metadata": {
        "id": "BGEUOUpqVPX6"
      },
      "outputs": [],
      "source": [
        "# Define a dictionary of chat word mappings\n",
        "chat_words = {\n",
        "    \"AFAIK\": \"As Far As I Know\",\n",
        "    \"AFK\": \"Away From Keyboard\",\n",
        "    \"ASAP\": \"As Soon As Possible\",\n",
        "    \"ATK\": \"At The Keyboard\",\n",
        "    \"ATM\": \"At The Moment\",\n",
        "    \"A3\": \"Anytime, Anywhere, Anyplace\",\n",
        "    \"BAK\": \"Back At Keyboard\",\n",
        "    \"BBL\": \"Be Back Later\",\n",
        "    \"BBS\": \"Be Back Soon\",\n",
        "    \"BFN\": \"Bye For Now\",\n",
        "    \"B4N\": \"Bye For Now\",\n",
        "    \"BRB\": \"Be Right Back\",\n",
        "    \"BRT\": \"Be Right There\",\n",
        "    \"BTW\": \"By The Way\",\n",
        "    \"B4\": \"Before\",\n",
        "    \"B4N\": \"Bye For Now\",\n",
        "    \"CU\": \"See You\",\n",
        "    \"CUL8R\": \"See You Later\",\n",
        "    \"CYA\": \"See You\",\n",
        "    \"FAQ\": \"Frequently Asked Questions\",\n",
        "    \"FC\": \"Fingers Crossed\",\n",
        "    \"FWIW\": \"For What It's Worth\",\n",
        "    \"FYI\": \"For Your Information\",\n",
        "    \"GAL\": \"Get A Life\",\n",
        "    \"GG\": \"Good Game\",\n",
        "    \"GN\": \"Good Night\",\n",
        "    \"GMTA\": \"Great Minds Think Alike\",\n",
        "    \"GR8\": \"Great!\",\n",
        "    \"G9\": \"Genius\",\n",
        "    \"IC\": \"I See\",\n",
        "    \"ICQ\": \"I Seek you (also a chat program)\",\n",
        "    \"ILU\": \"ILU: I Love You\",\n",
        "    \"IMHO\": \"In My Honest/Humble Opinion\",\n",
        "    \"IMO\": \"In My Opinion\",\n",
        "    \"IOW\": \"In Other Words\",\n",
        "    \"IRL\": \"In Real Life\",\n",
        "    \"KISS\": \"Keep It Simple, Stupid\",\n",
        "    \"LDR\": \"Long Distance Relationship\",\n",
        "    \"LMAO\": \"Laugh My A.. Off\",\n",
        "    \"LOL\": \"Laughing Out Loud\",\n",
        "    \"LTNS\": \"Long Time No See\",\n",
        "    \"L8R\": \"Later\",\n",
        "    \"MTE\": \"My Thoughts Exactly\",\n",
        "    \"M8\": \"Mate\",\n",
        "    \"NRN\": \"No Reply Necessary\",\n",
        "    \"OIC\": \"Oh I See\",\n",
        "    \"PITA\": \"Pain In The A..\",\n",
        "    \"PRT\": \"Party\",\n",
        "    \"PRW\": \"Parents Are Watching\",\n",
        "    \"QPSA?\": \"Que Pasa?\",\n",
        "    \"ROFL\": \"Rolling On The Floor Laughing\",\n",
        "    \"ROFLOL\": \"Rolling On The Floor Laughing Out Loud\",\n",
        "    \"ROTFLMAO\": \"Rolling On The Floor Laughing My A.. Off\",\n",
        "    \"SK8\": \"Skate\",\n",
        "    \"STATS\": \"Your sex and age\",\n",
        "    \"ASL\": \"Age, Sex, Location\",\n",
        "    \"THX\": \"Thank You\",\n",
        "    \"TTFN\": \"Ta-Ta For Now!\",\n",
        "    \"TTYL\": \"Talk To You Later\",\n",
        "    \"U\": \"You\",\n",
        "    \"U2\": \"You Too\",\n",
        "    \"U4E\": \"Yours For Ever\",\n",
        "    \"WB\": \"Welcome Back\",\n",
        "    \"WTF\": \"What The F...\",\n",
        "    \"WTG\": \"Way To Go!\",\n",
        "    \"WUF\": \"Where Are You From?\",\n",
        "    \"W8\": \"Wait...\",\n",
        "    \"7K\": \"Sick:-D Laugher\",\n",
        "    \"TFW\": \"That feeling when\",\n",
        "    \"MFW\": \"My face when\",\n",
        "    \"MRW\": \"My reaction when\",\n",
        "    \"IFYP\": \"I feel your pain\",\n",
        "    \"TNTL\": \"Trying not to laugh\",\n",
        "    \"JK\": \"Just kidding\",\n",
        "    \"IDC\": \"I don't care\",\n",
        "    \"ILY\": \"I love you\",\n",
        "    \"IMU\": \"I miss you\",\n",
        "    \"ADIH\": \"Another day in hell\",\n",
        "    \"ZZZ\": \"Sleeping, bored, tired\",\n",
        "    \"WYWH\": \"Wish you were here\",\n",
        "    \"TIME\": \"Tears in my eyes\",\n",
        "    \"BAE\": \"Before anyone else\",\n",
        "    \"FIMH\": \"Forever in my heart\",\n",
        "    \"BSAAW\": \"Big smile and a wink\",\n",
        "    \"BWL\": \"Bursting with laughter\",\n",
        "    \"BFF\": \"Best friends forever\",\n",
        "    \"CSL\": \"Can't stop laughing\"\n",
        "}"
      ]
    },
    {
      "cell_type": "code",
      "execution_count": null,
      "metadata": {
        "id": "W1dGTjNmVkID"
      },
      "outputs": [],
      "source": [
        "\n",
        "\n",
        "# Function to replace chat words with their full forms\n",
        "def replace_chat_words(text):\n",
        "    \n",
        "    if text is None:\n",
        "        print(\"chutiya\")\n",
        "    text=text.split()\n",
        "    for i in range(len(text)): \n",
        "        text[i]=chat_words.get(text[i],text[i])\n",
        "    \n",
        "    return ' '.join(text)\n",
        "        \n",
        "print(df.isna().sum())        \n",
        "# Apply replace_chat_words function to 'Text' column\n",
        "df['Message'] = df['Message'].apply(replace_chat_words)\n",
        "\n"
      ]
    },
    {
      "cell_type": "code",
      "execution_count": null,
      "metadata": {
        "colab": {
          "base_uri": "https://localhost:8080/"
        },
        "id": "FXgPVzKNVkKo",
        "outputId": "f6f776e9-b7f2-4769-d0e0-15a38f0906b3"
      },
      "outputs": [],
      "source": [
        "\n",
        "\n",
        "# Download NLTK stopwords corpus\n",
        "nltk.download('stopwords')\n",
        "\n",
        "# Get English stopwords from NLTK\n",
        "stop_words = set(stopwords.words('english'))\n",
        "\n",
        "# Function to remove stop words from text\n",
        "def remove_stopwords(text):\n",
        "    words = text.split()\n",
        "    filtered_words = [word for word in words if word.lower() not in stop_words]\n",
        "    return ' '.join(filtered_words)\n",
        "\n",
        "# Apply remove_stopwords function to 'Text' column\n",
        "df['Message'] = df['Message'].apply(remove_stopwords)\n",
        "\n"
      ]
    },
    {
      "cell_type": "code",
      "execution_count": null,
      "metadata": {
        "id": "Dy2GBqaUVkNa"
      },
      "outputs": [],
      "source": [
        "# Function to remove emojis from text\n",
        "def remove_emojis(text):\n",
        "    return emoji.demojize(text)\n",
        "\n",
        "# Apply remove_emojis function to 'Text' column\n",
        "df['Message'] = df['Message'].apply(remove_emojis)\n"
      ]
    },
    {
      "cell_type": "code",
      "execution_count": null,
      "metadata": {
        "colab": {
          "base_uri": "https://localhost:8080/",
          "height": 206
        },
        "id": "sQcJIXRTV2pZ",
        "outputId": "09af5eab-06ff-46ed-fa09-2da491ba3f5b"
      },
      "outputs": [],
      "source": [
        "# Initialize the Porter Stemmer\n",
        "porter_stemmer = PorterStemmer()\n",
        "\n",
        "# Apply stemming\n",
        "df['Message_stemmed'] = df['Message'].apply(lambda x: ' '.join([porter_stemmer.stem(word) for word in x.split()]))\n",
        "df.head()\n"
      ]
    },
    {
      "cell_type": "code",
      "execution_count": null,
      "metadata": {
        "id": "9ZVXTC73Oag1"
      },
      "outputs": [],
      "source": [
        "#Convert text to numbers using bag of words\n",
        "# vectorizer=CountVectorizer()\n",
        "vectorizer=TfidfVectorizer()\n",
        "X=vectorizer.fit_transform(df['Message_stemmed']).toarray()\n",
        "y = df['Category']\n"
      ]
    },
    {
      "cell_type": "code",
      "execution_count": null,
      "metadata": {},
      "outputs": [],
      "source": [
        "#standard scaling\n",
        "# X=StandardScaler().fit_transform(X)\n",
        "\n",
        "print(X[0:10,0])"
      ]
    },
    {
      "cell_type": "code",
      "execution_count": null,
      "metadata": {},
      "outputs": [],
      "source": [
        "plt.bar(['ham','spam'],[val for val in y.value_counts()])\n",
        "plt.title(\"frequency distribution\")\n",
        "plt.show()"
      ]
    },
    {
      "cell_type": "code",
      "execution_count": null,
      "metadata": {
        "id": "8m28Zw01PT7B"
      },
      "outputs": [],
      "source": [
        "X_train, X_test , Y_train, Y_test = train_test_split(X,y,test_size = 0.2, random_state = 42 , stratify=y)\n",
        "\n",
        "X_train.shape"
      ]
    },
    {
      "cell_type": "markdown",
      "metadata": {
        "id": "di5wpARmYdl2"
      },
      "source": [
        "#Solve this problem using Logistic Regression(using numpy from scratch)"
      ]
    },
    {
      "cell_type": "code",
      "execution_count": null,
      "metadata": {
        "id": "Ih-pSEW0PUMI"
      },
      "outputs": [],
      "source": [
        "class LogisticRegressionWithDecay:\n",
        "    \n",
        "    def __init__(self,numFeatures:int,bias:bool,lmbda:float,alpha:float,val_freq:int,earlyStop:bool,decay:str):\n",
        "        \n",
        "        np.random.seed(52)\n",
        "        self.weights=np.random.randn(1,numFeatures)\n",
        "        if bias:    \n",
        "            self.bias=np.random.randn(1,1)\n",
        "        else:\n",
        "            self.bias=None\n",
        "            \n",
        "        self.alpha=alpha\n",
        "        self.val_freq=val_freq\n",
        "        self.earlyStop=earlyStop\n",
        "        self.lmbda=lmbda\n",
        "        self.eps=0\n",
        "        \n",
        "        self.lastEpoch=None\n",
        "        \n",
        "        if decay not in ['L1','L2',None]:\n",
        "            raise ValueError(\"invalid value of decay\")\n",
        "        \n",
        "        self.decay=decay\n",
        "        \n",
        "        self.decay_fn={'L1':[self.L1Loss,self.L1grad]\n",
        "                  ,'L2':[self.L2Loss,self.L2grad]\n",
        "                  ,None:[lambda:0,lambda:0]}\n",
        "        \n",
        "    def L1Loss(self):\n",
        "        return self.lmbda*np.sum(np.abs(self.weights))/self.weights.shape[1]\n",
        "    \n",
        "    def L2Loss(self):\n",
        "        return self.lmbda*np.sum(self.weights**2)/self.weights.shape[1]\n",
        "    \n",
        "    def L1grad(self):\n",
        "        return np.squeeze(2*self.lmbda*self.weights)/self.weights.shape[1]\n",
        "        \n",
        "    def L2grad(self):\n",
        "        return np.array(self.weights.shape[0]*[self.lmbda])/self.weights.shape[1]\n",
        "        \n",
        "    def forward(self,X:np.array,activation=True):\n",
        "        \n",
        "        if activation:\n",
        "            return 1/(1+np.exp(-np.squeeze((X)@(self.weights.T) +(self.bias if self.bias else 0),axis=-1)))\n",
        "        \n",
        "        return np.squeeze((X)@(self.weights.T) +(self.bias if self.bias else 0),axis=-1)\n",
        "    \n",
        "    def loss(self,X:np.array,Y:np.array):\n",
        "        \n",
        "        # preds=self.forward(X)\n",
        "        # # print(Y.shape,preds.shape)\n",
        "        # if (preds==0).sum()>0 or (preds==1).sum()>0:\n",
        "        #     print(\"!!!!1\")\n",
        "        # loss=-(Y*np.log(preds)+(np.array([1])-Y+self.eps)*np.log(np.array([1])-preds+self.eps))\n",
        "        preds=self.forward(X,activation=False)\n",
        "        loss = np.maximum(preds, 0) - preds*Y + np.log(1 + np.exp(-abs(preds)))\n",
        "\n",
        "        \n",
        "        if np.isnan(loss).any():\n",
        "            print(\"loss is nan\")\n",
        "            \n",
        "        \n",
        "        return np.mean(loss)+self.decay_fn[self.decay][0]()\n",
        "    \n",
        "    def updateParams(self,X:np.array,Y:np.array):\n",
        "        \n",
        "        pred=self.forward(X)\n",
        "        dw=np.mean( (np.expand_dims(pred-Y,axis=-1))*X ,axis=0) +self.decay_fn[self.decay][1]()\n",
        "        self.weights-=self.alpha*np.expand_dims(dw,axis=0)\n",
        "        \n",
        "        if self.bias:\n",
        "            db=np.mean(pred-Y)\n",
        "            self.bias-=self.alpha*db\n",
        "        \n",
        "    def train(self,epochs:int,batch_size:int,X:np.array,Y:np.array,X_val:np.array,Y_val:np.array):\n",
        "        self.losses=[]\n",
        "        self.val_losses=[]\n",
        "        pbar=tqdm(range(epochs))\n",
        "        min_train_loss=np.inf\n",
        "        \n",
        "        for epoch in pbar:\n",
        "            loss=0\n",
        "            for i in range(0,X.shape[0],batch_size):\n",
        "\n",
        "                self.updateParams(X[i:i+batch_size,:],Y[i:i+batch_size])\n",
        "                loss+=self.loss(X[i:i+batch_size,:],Y[i:i+batch_size])\n",
        "            \n",
        "            loss/=math.ceil(X.shape[0]/batch_size)\n",
        "            loss=round(loss,4)\n",
        "            self.losses.append(loss)\n",
        "\n",
        "            if (epoch+1) % self.val_freq==0:\n",
        "                val_loss=self.loss(X_val,Y_val)\n",
        "                val_loss=round(val_loss,4)\n",
        "                self.val_losses.append(val_loss)\n",
        "                pred=self.forward(X_val)\n",
        "                pred[pred>0.5]=1\n",
        "                pred[pred<=0.5]=0\n",
        "                val_acc=(pred==Y_val).sum()/X_val.shape[0]\n",
        "\n",
        "            if len(self.val_losses):\n",
        "                pbar.set_postfix({'train loss':f'{loss:.4f}'\n",
        "                                  ,'val loss':f'{self.val_losses[-1]:.4f}',\n",
        "                                  'val acc':val_acc})\n",
        "            else:\n",
        "                pbar.set_postfix({'train loss':f'{loss:.4f}'})\n",
        "                \n",
        "            #early Stopping            \n",
        "            if self.earlyStop:\n",
        "                if(loss<min_train_loss):\n",
        "                    minima=epoch\n",
        "                min_train_loss=min(min_train_loss,loss)\n",
        "                \n",
        "                if(epoch-minima>8 or (len(self.val_losses) and (self.val_losses[-1]-min_train_loss)>0.1*minima)):\n",
        "                    print(\"triggering early stopping........\")\n",
        "                    print(\"REASON:\",end=\"\")\n",
        "                    if epoch-minima>20:\n",
        "                        print(\"train loss saturation\")\n",
        "                    else:\n",
        "                        print(\"overfitting\")\n",
        "                    self.lastEpoch=epoch\n",
        "                    break\n",
        "                      \n",
        "        print(\"training complete!!\")\n",
        "        "
      ]
    },
    {
      "cell_type": "code",
      "execution_count": 187,
      "metadata": {
        "id": "-MKtP0_YPYhY"
      },
      "outputs": [
        {
          "name": "stdout",
          "output_type": "stream",
          "text": [
            "(4125, 7072)\n"
          ]
        },
        {
          "name": "stderr",
          "output_type": "stream",
          "text": [
            "100%|██████████| 5000/5000 [10:42<00:00,  7.78it/s, train loss=0.1632, val loss=0.1805, val acc=0.943]"
          ]
        },
        {
          "name": "stdout",
          "output_type": "stream",
          "text": [
            "training complete!!\n",
            "final params\n",
            "[[ 0.51019558 -1.28009335  0.24042003 ...  0.85664075 -0.86663385\n",
            "   0.72645505]] [[-2.85930204]]\n"
          ]
        },
        {
          "name": "stderr",
          "output_type": "stream",
          "text": [
            "\n"
          ]
        }
      ],
      "source": [
        "\n",
        "val_freq=200\n",
        "epochs=5000\n",
        "lmbda=1\n",
        "num_features=X_train.shape[1]\n",
        "bias=True\n",
        "learningRate=0.01\n",
        "batch=2**7\n",
        "earlyStop=False\n",
        "decay=None\n",
        "classifier=LogisticRegressionWithDecay(num_features,bias,lmbda,learningRate,val_freq,earlyStop,decay)\n",
        "\n",
        "\n",
        "print(X_train.shape)\n",
        "\n",
        "classifier.train(epochs,batch,X_train,Y_train,X_test,Y_test)\n",
        "print(\"final params\")\n",
        "print(classifier.weights,classifier.bias)\n"
      ]
    },
    {
      "cell_type": "code",
      "execution_count": 188,
      "metadata": {},
      "outputs": [
        {
          "data": {
            "image/png": "[encoded data removed]",
            "text/plain": [
              "<Figure size 1000x600 with 1 Axes>"
            ]
          },
          "metadata": {},
          "output_type": "display_data"
        }
      ],
      "source": [
        "epochs=classifier.lastEpoch if classifier.lastEpoch is not None else epochs\n",
        "\n",
        "\n",
        "fig = plt.figure(figsize=(10, 6))\n",
        "\n",
        "plt.plot(classifier.losses,label=\"train loss\")\n",
        "\n",
        "plt.plot(np.arange(val_freq,epochs+1 if epochs%val_freq==0 else epochs+2,val_freq),classifier.val_losses,label=\"val loss\")\n",
        "plt.xlabel(\"epoch\")\n",
        "plt.ylabel(\"loss\")\n",
        "plt.legend(loc=\"lower right\")\n",
        "plt.title(\"loss curve\")\n",
        "\n",
        "plt.savefig(\"Images/lossCurves.jpg\")"
      ]
    },
    {
      "cell_type": "markdown",
      "metadata": {},
      "source": [
        "### EVALUATION\n",
        "\n",
        "- ROC AUC\n",
        "\n",
        "- Confusion Matrix\n",
        "\n",
        "- Accuracy\n",
        "\n",
        "- F1 Score"
      ]
    },
    {
      "cell_type": "code",
      "execution_count": 189,
      "metadata": {
        "id": "dpH1rXt7PoGK"
      },
      "outputs": [
        {
          "data": {
            "image/png": "[encoded data removed]",
            "text/plain": [
              "<Figure size 640x480 with 1 Axes>"
            ]
          },
          "metadata": {},
          "output_type": "display_data"
        }
      ],
      "source": [
        "Y_pred=classifier.forward(X_test)\n",
        "\n",
        "fpr, tpr, thresholds=roc_curve(Y_test,Y_pred)\n",
        "# print(Y_pred)\n",
        "# classification_report(Y_test,Y_pred)\n",
        "roc_auc = auc(fpr, tpr)\n",
        "\n",
        "plt.figure()\n",
        "plt.plot(fpr, tpr, color='blue', lw=2, label=f'ROC curve (AUC = {roc_auc:.2f})')\n",
        "plt.plot([0, 1], [0, 1], color='red', lw=2, linestyle='--') \n",
        "plt.xlim([0.0, 1.0])\n",
        "plt.ylim([0.0, 1.05])\n",
        "plt.xlabel('False Positive Rate')\n",
        "plt.ylabel('True Positive Rate')\n",
        "plt.title('ROC Curve')\n",
        "plt.legend(loc=\"lower right\")\n",
        "plt.savefig(\"Images/rocCurve.jpg\")"
      ]
    },
    {
      "cell_type": "code",
      "execution_count": null,
      "metadata": {},
      "outputs": [],
      "source": [
        "tsne=TSNE(2,random_state=42,perplexity=30)\n",
        "\n",
        "X_embedded = tsne.fit_transform(X)\n",
        "\n",
        "plt.figure(figsize=(8, 6))\n",
        "scatter = plt.scatter(X_embedded[:, 0], X_embedded[:, 1],\n",
        "                      c=y, cmap='tab10', s=15)\n",
        "plt.title(\"t-SNE Projection of Dataset\")\n",
        "plt.xlabel(\"t-SNE 1\")\n",
        "plt.ylabel(\"t-SNE 2\")\n",
        "plt.savefig(\"Images/t-SNE.jpg\")"
      ]
    },
    {
      "cell_type": "code",
      "execution_count": null,
      "metadata": {
        "id": "Cpy3b4qp2GK7"
      },
      "outputs": [
        {
          "data": {
            "image/png": "[encoded data removed]",
            "text/plain": [
              "<Figure size 640x480 with 2 Axes>"
            ]
          },
          "metadata": {},
          "output_type": "display_data"
        }
      ],
      "source": [
        "\n",
        "preds=np.zeros_like(Y_pred)\n",
        "threshold=0.5\n",
        "preds[Y_pred>threshold]=1\n",
        "cm = confusion_matrix(Y_test, preds)\n",
        "\n",
        "# Plot using sklearn's built-in display\n",
        "disp = ConfusionMatrixDisplay(confusion_matrix=cm,display_labels=['ham','spam'])\n",
        "disp.plot(cmap=plt.cm.Blues)\n",
        "plt.title(f\"Confusion Matrix [accuracy:{((preds==Y_test).sum()/preds.shape[0]):.4f}]\")\n",
        "plt.savefig(\"Images/ConfusionMatrix.jpg\")"
      ]
    },
    {
      "cell_type": "markdown",
      "metadata": {
        "id": "Zcf7T9hD14_h"
      },
      "source": [
        "#Now Use sklearn library to fit the data using logistic regression and compare results"
      ]
    },
    {
      "cell_type": "code",
      "execution_count": null,
      "metadata": {
        "id": "Summ2jz22Ddr"
      },
      "outputs": [],
      "source": [
        "sklearnClassifier=LRsklearn()\n",
        "\n",
        "sklearnClassifier.fit(X_train,Y_train)\n",
        "\n",
        "Y_preds_sklearn=sklearnClassifier.predict(X_test)"
      ]
    },
    {
      "cell_type": "code",
      "execution_count": null,
      "metadata": {},
      "outputs": [],
      "source": [
        "fpr, tpr, thresholds=roc_curve(Y_test,Y_preds_sklearn)\n",
        "# print(Y_pred)\n",
        "# classification_report(Y_test,Y_pred)\n",
        "roc_auc = auc(fpr, tpr)\n",
        "\n",
        "plt.figure()\n",
        "plt.plot(fpr, tpr, color='blue', lw=2, label=f'ROC curve (AUC = {roc_auc:.2f})')\n",
        "plt.plot([0, 1], [0, 1], color='red', lw=2, linestyle='--')\n",
        "plt.xlim([0.0, 1.0])\n",
        "plt.ylim([0.0, 1.05])\n",
        "plt.xlabel('False Positive Rate')\n",
        "plt.ylabel('True Positive Rate')\n",
        "plt.title('ROC Curve')\n",
        "plt.legend(loc=\"lower right\")\n",
        "plt.show()"
      ]
    },
    {
      "cell_type": "code",
      "execution_count": null,
      "metadata": {},
      "outputs": [],
      "source": [
        "preds_sklearn=np.zeros_like(Y_preds_sklearn)\n",
        "preds_sklearn[Y_preds_sklearn>0.5]=1\n",
        "cm = confusion_matrix(Y_test, preds_sklearn)\n",
        "\n",
        "# Plot using sklearn's built-in display\n",
        "disp = ConfusionMatrixDisplay(confusion_matrix=cm,display_labels=['ham','spam'])\n",
        "disp.plot(cmap=plt.cm.Blues)\n",
        "plt.title(f\"Confusion Matrix [accuracy:{((preds_sklearn==Y_test).sum()/preds_sklearn.shape[0]):.4f}]\")\n",
        "plt.show()"
      ]
    },
    {
      "cell_type": "code",
      "execution_count": null,
      "metadata": {},
      "outputs": [
        {
          "data": {
            "image/png": "[encoded data removed]",
            "text/plain": [
              "<Figure size 600x400 with 2 Axes>"
            ]
          },
          "metadata": {},
          "output_type": "display_data"
        }
      ],
      "source": [
        "import seaborn as sns\n",
        "\n",
        "report=classification_report(Y_test,preds,output_dict=True)\n",
        "df = pd.DataFrame(report).transpose()\n",
        "\n",
        "plt.figure(figsize=(6,4))\n",
        "sns.heatmap(df, annot=True, cmap=\"Blues\", fmt=\".2f\")\n",
        "plt.title(\"Classification Report\")\n",
        "plt.show()"
      ]
    },
    {
      "cell_type": "code",
      "execution_count": null,
      "metadata": {},
      "outputs": [],
      "source": []
    }
  ],
  "metadata": {
    "colab": {
      "provenance": []
    },
    "kernelspec": {
      "display_name": "GAN",
      "language": "python",
      "name": "python3"
    },
    "language_info": {
      "codemirror_mode": {
        "name": "ipython",
        "version": 3
      },
      "file_extension": ".py",
      "mimetype": "text/x-python",
      "name": "python",
      "nbconvert_exporter": "python",
      "pygments_lexer": "ipython3",
      "version": "3.11.13"
    }
  },
  "nbformat": 4,
  "nbformat_minor": 0
}
